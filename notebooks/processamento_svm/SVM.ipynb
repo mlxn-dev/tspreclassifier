{
 "cells": [
  {
   "cell_type": "code",
   "execution_count": null,
   "metadata": {},
   "outputs": [],
   "source": []
  },
  {
   "cell_type": "code",
   "execution_count": 1,
   "metadata": {},
   "outputs": [
    {
     "ename": "NameError",
     "evalue": "name 'selecoes' is not defined",
     "output_type": "error",
     "traceback": [
      "\u001b[1;31m---------------------------------------------------------------------------\u001b[0m",
      "\u001b[1;31mNameError\u001b[0m                                 Traceback (most recent call last)",
      "\u001b[1;32m<ipython-input-1-107d9886d3b6>\u001b[0m in \u001b[0;36m<module>\u001b[1;34m\u001b[0m\n\u001b[0;32m     18\u001b[0m \u001b[0msvm_best_parameter\u001b[0m \u001b[1;33m=\u001b[0m \u001b[1;33m[\u001b[0m\u001b[1;33m]\u001b[0m\u001b[1;33m\u001b[0m\u001b[1;33m\u001b[0m\u001b[0m\n\u001b[0;32m     19\u001b[0m \u001b[0msvm_best_score\u001b[0m \u001b[1;33m=\u001b[0m \u001b[1;33m[\u001b[0m\u001b[1;33m]\u001b[0m\u001b[1;33m\u001b[0m\u001b[1;33m\u001b[0m\u001b[0m\n\u001b[1;32m---> 20\u001b[1;33m \u001b[0msvm_best_parameter\u001b[0m\u001b[1;33m,\u001b[0m \u001b[0msvm_best_score\u001b[0m\u001b[1;33m=\u001b[0m \u001b[0msvc_param_selection\u001b[0m\u001b[1;33m(\u001b[0m\u001b[0mselecoes\u001b[0m\u001b[1;33m.\u001b[0m\u001b[0mvalues\u001b[0m\u001b[1;33m,\u001b[0m \u001b[0my\u001b[0m\u001b[1;33m,\u001b[0m \u001b[1;36m3\u001b[0m\u001b[1;33m,\u001b[0m \u001b[1;34m'linear'\u001b[0m\u001b[1;33m)\u001b[0m\u001b[1;33m\u001b[0m\u001b[1;33m\u001b[0m\u001b[0m\n\u001b[0m\u001b[0;32m     21\u001b[0m \u001b[1;33m\u001b[0m\u001b[0m\n\u001b[0;32m     22\u001b[0m classifier = svm.SVC(C=0.1, kernel='rbf', degree=3, gamma=0.1, \n",
      "\u001b[1;31mNameError\u001b[0m: name 'selecoes' is not defined"
     ]
    }
   ],
   "source": [
    "from sklearn import svm\n",
    "from sklearn.model_selection import GridSearchCV\n",
    "\n",
    "def svc_param_selection(X, y, nfolds, kernel):\n",
    "    C_range = np.logspace(-2, 10, 13)\n",
    "    gamma_range = np.logspace(-9, 3, 13)\n",
    "    param_grid = dict(gamma=gamma_range, C=C_range)\n",
    "    grid_search = GridSearchCV(svm.SVC(kernel=kernel), \n",
    "                               param_grid, \n",
    "                               cv=nfolds,\n",
    "                              refit=True,\n",
    "                              )\n",
    "    grid_search.fit(X, y)\n",
    "    return grid_search.best_params_, grid_search.best_score_\n",
    "###########################################################\n",
    "#Parameter tunning : cv = 2, 3, 4, 5\n",
    "\n",
    "svm_best_parameter = []\n",
    "svm_best_score = []\n",
    "svm_best_parameter, svm_best_score= svc_param_selection(selecoes.values, y, 3, 'linear')\n",
    "\n",
    "classifier = svm.SVC(C=0.1, kernel='rbf', degree=3, gamma=0.1, \n",
    "        coef0=0.0, shrinking=True, probability=False, tol=0.001, \n",
    "        cache_size=200, class_weight=None, verbose=False, max_iter=-1, \n",
    "        decision_function_shape='ovr', random_state=None)\n",
    "classifier.fit(X_train, y_train)\n",
    "classifier.predict([X_test, y_test])"
   ]
  },
  {
   "cell_type": "code",
   "execution_count": 2,
   "metadata": {},
   "outputs": [
    {
     "ename": "NameError",
     "evalue": "name 'svc_param_selection' is not defined",
     "output_type": "error",
     "traceback": [
      "\u001b[1;31m---------------------------------------------------------------------------\u001b[0m",
      "\u001b[1;31mNameError\u001b[0m                                 Traceback (most recent call last)",
      "\u001b[1;32m<ipython-input-2-fdf8d2a49ccf>\u001b[0m in \u001b[0;36m<module>\u001b[1;34m\u001b[0m\n\u001b[1;32m----> 1\u001b[1;33m \u001b[0msvm_best_parameter\u001b[0m\u001b[1;33m,\u001b[0m \u001b[0msvm_best_score\u001b[0m\u001b[1;33m,\u001b[0m \u001b[0mX_gscv\u001b[0m \u001b[1;33m=\u001b[0m \u001b[0msvc_param_selection\u001b[0m\u001b[1;33m(\u001b[0m\u001b[0mX\u001b[0m\u001b[1;33m,\u001b[0m \u001b[0my\u001b[0m\u001b[1;33m,\u001b[0m \u001b[1;36m3\u001b[0m\u001b[1;33m,\u001b[0m \u001b[1;34m'rbf'\u001b[0m\u001b[1;33m)\u001b[0m\u001b[1;33m\u001b[0m\u001b[1;33m\u001b[0m\u001b[0m\n\u001b[0m",
      "\u001b[1;31mNameError\u001b[0m: name 'svc_param_selection' is not defined"
     ]
    }
   ],
   "source": [
    "svm_best_parameter = []\n",
    "svm_best_score = []\n",
    "X_gscv = pd.DataFrame([])\n",
    "svm_best_parameter, svm_best_score, X_gscv = svc_param_selection(X, y, 3, 'rbf')"
   ]
  }
 ],
 "metadata": {
  "kernelspec": {
   "display_name": "Python 3",
   "language": "python",
   "name": "python3"
  },
  "language_info": {
   "codemirror_mode": {
    "name": "ipython",
    "version": 3
   },
   "file_extension": ".py",
   "mimetype": "text/x-python",
   "name": "python",
   "nbconvert_exporter": "python",
   "pygments_lexer": "ipython3",
   "version": "3.6.8"
  }
 },
 "nbformat": 4,
 "nbformat_minor": 2
}
