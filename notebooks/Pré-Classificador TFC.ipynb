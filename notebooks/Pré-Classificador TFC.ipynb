{
 "cells": [
  {
   "cell_type": "code",
   "execution_count": null,
   "metadata": {
    "scrolled": true
   },
   "outputs": [],
   "source": [
    "#Bibliotecas p/ importação \n",
    "import warnings\n",
    "warnings.filterwarnings(\"ignore\")\n",
    "\n",
    "import numpy as np #Manipulação de vetores, matrizes, operações, etc.\n",
    "import pandas as pd #Visualização, organização nos DataFrames (planilhas)\n",
    "import tensorflow as tf #Machine Learning e afins\n",
    "import matplotlib.pyplot as plt #Plotagem e visualização\n",
    "\n",
    "from tensorflow import keras #API de machine learning\n",
    "from keras import Sequential #Compilador p/ RNA\n",
    "from keras.layers import Dense #Construção das camadas\n",
    "from keras.optimizers import SGD\n",
    "\n",
    "from sklearn import svm #SVM padrão\n",
    "from sklearn.svm import SVC  \n",
    "from sklearn.model_selection import train_test_split, StratifiedKFold, cross_val_score #Model tunning\n",
    "from sklearn.preprocessing import StandardScaler #Estandardização por escalonamento\n",
    "from sklearn.feature_selection import RFECV #Seleção por eliminação recursiva de atributos\n",
    "from sklearn.metrics import confusion_matrix #Matriz de confusão p/ discriminar os erros e acertos na rede neural\n",
    "\n",
    "\n",
    "from itertools import product\n",
    "sc = StandardScaler()\n",
    "#plt.rcParams[\"figure.figsize\"]=14,14\n",
    "#%matplotlib qt "
   ]
  },
  {
   "cell_type": "code",
   "execution_count": null,
   "metadata": {
    "scrolled": true
   },
   "outputs": [],
   "source": [
    "from funct import svm_std, svm_rfecv, RFECV_selected, saida_svm, saida_svm_rfecv, RFECV_test, cv_score, build_model, compile_train_model, compile_train_model_no_threshold, plot_loss_acc, eval_model, train_test_loop, train_test_loop_no_threshold"
   ]
  },
  {
   "cell_type": "code",
   "execution_count": 2,
   "metadata": {
    "scrolled": true
   },
   "outputs": [],
   "source": [
    "pd.set_option('display.max_rows', 500)\n",
    "pd.set_option('display.max_columns', 500)\n",
    "pd.set_option('display.width', 1000)\n",
    "np.random.seed(42)"
   ]
  },
  {
   "cell_type": "code",
   "execution_count": 3,
   "metadata": {
    "scrolled": true
   },
   "outputs": [],
   "source": [
    "x_data = pd.read_csv('C:\\\\Users\\\\Pablo\\\\Desktop\\\\tfc\\\\Simulações\\\\Data.csv', \n",
    "                     index_col = 0) #Matriz com os dados extraídos das simulaçções no ANATEM\n",
    "\n",
    "y_data = pd.read_csv('C:\\\\Users\\\\Pablo\\\\Desktop\\\\tfc\\\\Simulações\\\\y.csv', \n",
    "                     usecols = [1]).values.ravel() #Vetor de rótulos de estabilidade \n",
    "\n",
    "#Divisão dos dados em seus respectivos subconjuntos\n",
    "subset = {'D':x_data.iloc[:,:14], 'PG':x_data.iloc[:,14:30], \n",
    "                 'QG':x_data.iloc[:,30:46], 'VM':x_data.iloc[:,46:62]} \n",
    "#                 'Dmin':x_data.iloc[:,7:14], 'Dmax':x_data.iloc[:,:7], \n",
    "#                 'PGmin':x_data.iloc[:,22:30], 'PGmax':x_data.iloc[:,14:22], \n",
    "#                 'QGmin':x_data.iloc[:,38:46], 'QGmax':x_data.iloc[:,30:38], \n",
    "#                 'VMmin':x_data.iloc[:,54:62], 'VMmax':x_data.iloc[:,46:54]\n",
    "\n",
    "index = list()\n",
    "for x in subset: index.append(x) #Lista de índices com os conjuntos"
   ]
  },
  {
   "cell_type": "code",
   "execution_count": null,
   "metadata": {
    "scrolled": true
   },
   "outputs": [],
   "source": [
    "rna_alldata = train_test_loop(sc.fit_transform(x_data), y_data, 'de todos os dados', True)\n",
    "\n",
    "with open(\"melhores_treinos_todos.txt\", 'w') as f:\n",
    "    for s in rna_alldata[0]:\n",
    "        f.write(str(s) + '\\n')\n",
    "\n",
    "with open(\"melhores_casos_todos.txt\", 'w') as f0:\n",
    "    for s in rna_alldata[1]:\n",
    "        f.write(str(s) + '\\n')"
   ]
  },
  {
   "cell_type": "code",
   "execution_count": null,
   "metadata": {
    "scrolled": false
   },
   "outputs": [],
   "source": [
    "rna_alldata[0], rna_alldata[1]"
   ]
  },
  {
   "cell_type": "code",
   "execution_count": null,
   "metadata": {
    "scrolled": true
   },
   "outputs": [],
   "source": [
    "estimador = SVC(kernel='linear', C=0.001)\n",
    "selecionador = RFECV(estimador, step=1, cv=3)\n",
    "selecionador = selecionador.fit(sc.fit_transform(x_data.values), y_data)"
   ]
  },
  {
   "cell_type": "code",
   "execution_count": null,
   "metadata": {
    "scrolled": true
   },
   "outputs": [],
   "source": [
    "\n",
    "rna_rfecv  = train_test_loop(sc.fit_transform(x_data[x_data.columns[selecionador.get_support()]]), y_data, 'selecionado por RFECV - C=0.001, 3 dobras - threshold', True)\n",
    "with open(\"melhores_treinos_rfecv_threshold.txt\", 'w') as f1:\n",
    "    for s in rna_rfecv[0]:\n",
    "        f1.write(str(s) + '\\n')\n",
    "\n",
    "with open(\"melhores_casos_rfecv_threshold.txt\", 'w') as f2:\n",
    "    for s in rna_rfecv[1]:\n",
    "        f2.write(str(s) + '\\n')\n"
   ]
  },
  {
   "cell_type": "code",
   "execution_count": null,
   "metadata": {
    "scrolled": false
   },
   "outputs": [],
   "source": [
    "\n",
    "rna_rfecv_no_threshold = train_test_loop_no_threshold(sc.fit_transform(x_data[x_data.columns[selecionador.get_support()]]), y_data, 'selecionado por RFECV - C=0.001, 3 dobras, 20 epocas', True, epochs=20)\n",
    "\n",
    "with open(\"melhores_treinos_rfecv_no_threshold.txt\", 'w') as f3:\n",
    "    for s in rna_rfecv_no_threshold[0]:\n",
    "        f3.write(str(s) + '\\n')\n",
    "\n",
    "with open(\"melhores_casos_rfecv_no_threshold.txt\", 'w') as f4:\n",
    "    for s in rna_rfecv_no_threshold[1]:\n",
    "        f4.write(str(s) + '\\n')"
   ]
  },
  {
   "cell_type": "code",
   "execution_count": null,
   "metadata": {
    "scrolled": true
   },
   "outputs": [],
   "source": []
  }
 ],
 "metadata": {
  "kernelspec": {
   "display_name": "Python 3",
   "language": "python",
   "name": "python3"
  },
  "language_info": {
   "codemirror_mode": {
    "name": "ipython",
    "version": 3
   },
   "file_extension": ".py",
   "mimetype": "text/x-python",
   "name": "python",
   "nbconvert_exporter": "python",
   "pygments_lexer": "ipython3",
   "version": "3.6.10"
  }
 },
 "nbformat": 4,
 "nbformat_minor": 2
}
